{
 "cells": [
  {
   "cell_type": "code",
   "execution_count": 2,
   "metadata": {},
   "outputs": [],
   "source": [
    "import pandas as pd\n",
    "from datetime import datetime"
   ]
  },
  {
   "cell_type": "code",
   "execution_count": 3,
   "metadata": {},
   "outputs": [],
   "source": [
    "price = 9.99\n",
    "dev_proc = 0.7"
   ]
  },
  {
   "cell_type": "code",
   "execution_count": 4,
   "metadata": {},
   "outputs": [],
   "source": [
    "df = pd.read_csv('data_analytics.csv')"
   ]
  },
  {
   "cell_type": "code",
   "execution_count": 5,
   "metadata": {},
   "outputs": [],
   "source": [
    "# Data type formatting\n",
    "df['Event Date'] = df['Event Date'].apply(lambda x: datetime.strptime(x, '%Y-%m-%d'))"
   ]
  },
  {
   "cell_type": "code",
   "execution_count": 6,
   "metadata": {},
   "outputs": [],
   "source": [
    "# Let's group data by unique customer id and count how many times it does conversion action\n",
    "grouped = df.groupby(by='Subscriber ID', as_index=False)['Event Date'].count()-1\n",
    "grouped.rename(columns={'Event Date': 'Purchase'}, inplace=True)"
   ]
  },
  {
   "cell_type": "code",
   "execution_count": 7,
   "metadata": {},
   "outputs": [],
   "source": [
    "# Using formula to calculate LTV\n",
    "first = dev_proc*price\n",
    "grouped['LTV'] = grouped['Purchase']*first"
   ]
  },
  {
   "cell_type": "code",
   "execution_count": 8,
   "metadata": {},
   "outputs": [
    {
     "name": "stdout",
     "output_type": "stream",
     "text": [
      "           Subscriber ID  Purchase     LTV\n",
      "0     223411322456765432         5  34.965\n",
      "1     223411322456765433         5  34.965\n",
      "2     223411322456765434         5  34.965\n",
      "3     223411322456765436         5  34.965\n",
      "4     223411322456765437         5  34.965\n",
      "...                  ...       ...     ...\n",
      "1014  223411322456766799         0   0.000\n",
      "1015  223411322456766800         0   0.000\n",
      "1016  223411322456766801         0   0.000\n",
      "1017  223411322456766804         0   0.000\n",
      "1018  223411322456766807         0   0.000\n",
      "\n",
      "[1019 rows x 3 columns]\n"
     ]
    }
   ],
   "source": [
    "print(grouped)"
   ]
  },
  {
   "cell_type": "code",
   "execution_count": 9,
   "metadata": {},
   "outputs": [],
   "source": [
    "# Let's get average value\n",
    "LTV_for_6_weeks = grouped['LTV'].mean()"
   ]
  },
  {
   "cell_type": "code",
   "execution_count": 11,
   "metadata": {},
   "outputs": [
    {
     "name": "stdout",
     "output_type": "stream",
     "text": [
      "9.340012757605495\n"
     ]
    }
   ],
   "source": [
    "print(LTV_for_6_weeks)"
   ]
  },
  {
   "cell_type": "markdown",
   "metadata": {},
   "source": [
    "<b> It means that in period of 6 weeks marketing team need to spend not more than 9.34 to attract new  unique\n",
    "customers"
   ]
  }
 ],
 "metadata": {
  "jupytext": {
   "formats": "ipynb,py:percent"
  },
  "kernelspec": {
   "display_name": "ds_env",
   "language": "python",
   "name": "ds_env"
  },
  "language_info": {
   "codemirror_mode": {
    "name": "ipython",
    "version": 3
   },
   "file_extension": ".py",
   "mimetype": "text/x-python",
   "name": "python",
   "nbconvert_exporter": "python",
   "pygments_lexer": "ipython3",
   "version": "3.8.1"
  },
  "toc": {
   "base_numbering": 1,
   "nav_menu": {},
   "number_sections": true,
   "sideBar": true,
   "skip_h1_title": false,
   "title_cell": "Table of Contents",
   "title_sidebar": "Contents",
   "toc_cell": false,
   "toc_position": {},
   "toc_section_display": true,
   "toc_window_display": false
  }
 },
 "nbformat": 4,
 "nbformat_minor": 4
}
